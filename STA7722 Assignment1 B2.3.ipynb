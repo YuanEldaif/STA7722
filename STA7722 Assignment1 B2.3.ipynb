{
 "cells": [
  {
   "cell_type": "markdown",
   "id": "26cb4253",
   "metadata": {},
   "source": [
    "## STA7722 Assignment1 Part B 2.3\n",
    "### a) There are the datasets 'gmm1.csv' and 'gmm2.csv'. Train a GMM for each dataset.\n",
    "### b) There is a datasets 'gmmUknown.csv', that has data coming from either 'gmm1.csv' or 'gmm2.csv'. Which one is it and why?\n",
    "### c) The dataset 'gmmUknownComposite.csv' has data from both 'gmm1.csv' and 'gmm2.csv'. Produce a plot with the support for each plot over the 1000points and where you believe there is a change of the mixture producing the data."
   ]
  },
  {
   "cell_type": "markdown",
   "id": "5d8f5102",
   "metadata": {},
   "source": [
    "### Solutions:\n",
    "### a) There are the datasets 'gmm1.csv' and 'gmm2.csv'. Train a GMM for each dataset."
   ]
  },
  {
   "cell_type": "code",
   "execution_count": 34,
   "id": "7bcd5abe",
   "metadata": {},
   "outputs": [],
   "source": [
    "import pandas as pd\n",
    "import numpy as np\n",
    "import matplotlib.pyplot as plt\n",
    "from sklearn.mixture import GaussianMixture\n",
    "import warnings\n",
    "warnings.filterwarnings(\"ignore\", category=FutureWarning)"
   ]
  },
  {
   "cell_type": "code",
   "execution_count": 55,
   "id": "a95cb3b2",
   "metadata": {},
   "outputs": [],
   "source": [
    "#read data\n",
    "df1 = pd.read_csv(\"C:/Work/Project/STA7722/Assignment/Assgn1/gmm1.csv\")\n",
    "df2 = pd.read_csv(\"C:/Work/Project/STA7722/Assignment/Assgn1/gmm2.csv\")\n",
    "uk = pd.read_csv(\"C:/Work/Project/STA7722/Assignment/Assgn1/gmmUknown.csv\")\n",
    "ukc = pd.read_csv(\"C:/Work/Project/STA7722/Assignment/Assgn1/gmmUknownComposite.csv\")"
   ]
  },
  {
   "cell_type": "code",
   "execution_count": 72,
   "id": "9b80f547",
   "metadata": {},
   "outputs": [
    {
     "name": "stdout",
     "output_type": "stream",
     "text": [
      "mean:\n",
      "[[3.30109779]]\n",
      "std:\n",
      "[[[2.36047781]]]\n"
     ]
    },
    {
     "name": "stderr",
     "output_type": "stream",
     "text": [
      "C:\\Users\\alice\\anaconda3\\lib\\site-packages\\sklearn\\cluster\\_kmeans.py:881: UserWarning: KMeans is known to have a memory leak on Windows with MKL, when there are less chunks than available threads. You can avoid it by setting the environment variable OMP_NUM_THREADS=4.\n",
      "  warnings.warn(\n"
     ]
    }
   ],
   "source": [
    "#fit gmm1\n",
    "gm1 = GaussianMixture(n_components=1, random_state=0).fit(df1) #,covariance_type='full'\n",
    "print(\"mean:\")\n",
    "print(gm1.means_)\n",
    "print(\"std:\")\n",
    "print(np.sqrt(gm1.covariances_))"
   ]
  },
  {
   "cell_type": "code",
   "execution_count": 73,
   "id": "96b57b6c",
   "metadata": {},
   "outputs": [
    {
     "name": "stdout",
     "output_type": "stream",
     "text": [
      "mean:\n",
      "[[4.5990759]]\n",
      "std:\n",
      "[[[2.43930314]]]\n"
     ]
    },
    {
     "name": "stderr",
     "output_type": "stream",
     "text": [
      "C:\\Users\\alice\\anaconda3\\lib\\site-packages\\sklearn\\cluster\\_kmeans.py:881: UserWarning: KMeans is known to have a memory leak on Windows with MKL, when there are less chunks than available threads. You can avoid it by setting the environment variable OMP_NUM_THREADS=4.\n",
      "  warnings.warn(\n"
     ]
    }
   ],
   "source": [
    "#fit gmm2\n",
    "gm2 = GaussianMixture(n_components=1, random_state=0).fit(df2) #,covariance_type='full'\n",
    "print(\"mean:\")\n",
    "print(gm2.means_)\n",
    "print(\"std:\")\n",
    "print(np.sqrt(gm2.covariances_))"
   ]
  },
  {
   "cell_type": "markdown",
   "id": "72ef9993",
   "metadata": {},
   "source": [
    "### b) There is a datasets 'gmmUknown.csv', that has data coming from either 'gmm1.csv' or 'gmm2.csv'. Which one is it and why?"
   ]
  },
  {
   "cell_type": "markdown",
   "id": "e248431b",
   "metadata": {},
   "source": [
    "### gmmUknown belongs to gmm2 because the distance is closer to gmm2 compared with gmm1"
   ]
  },
  {
   "cell_type": "code",
   "execution_count": 54,
   "id": "d66a5604",
   "metadata": {},
   "outputs": [
    {
     "name": "stdout",
     "output_type": "stream",
     "text": [
      "mean:\n",
      "[[4.46321568]]\n",
      "std:\n",
      "[[[2.40564779]]]\n"
     ]
    },
    {
     "name": "stderr",
     "output_type": "stream",
     "text": [
      "C:\\Users\\alice\\anaconda3\\lib\\site-packages\\sklearn\\cluster\\_kmeans.py:881: UserWarning: KMeans is known to have a memory leak on Windows with MKL, when there are less chunks than available threads. You can avoid it by setting the environment variable OMP_NUM_THREADS=1.\n",
      "  warnings.warn(\n"
     ]
    }
   ],
   "source": [
    "#fit gmm2\n",
    "uk2 = GaussianMixture(n_components=1, random_state=0).fit(uk) #,covariance_type='full'\n",
    "print(\"mean:\")\n",
    "print(uk2.means_)\n",
    "print(\"std:\")\n",
    "print(np.sqrt(uk2.covariances_))"
   ]
  },
  {
   "cell_type": "markdown",
   "id": "e07616d0",
   "metadata": {},
   "source": [
    "### c) The dataset 'gmmUknownComposite.csv' has data from both 'gmm1.csv' and 'gmm2.csv'. Produce a plot with the support for each plot over the 1000points and where you believe there is a change of the mixture producing the data."
   ]
  },
  {
   "cell_type": "code",
   "execution_count": 64,
   "id": "1b00e4ea",
   "metadata": {},
   "outputs": [],
   "source": [
    "#Combine df1 and df2\n",
    "#df = pd.concat([df1,df2.rename(columns={'v2':'v1'}),ukc.rename(columns={'vUnknownComposite':'v1'})], ignore_index=True)\n",
    "df = pd.concat([df1,df2,ukc], axis =1)"
   ]
  },
  {
   "cell_type": "code",
   "execution_count": 65,
   "id": "250d8acb",
   "metadata": {},
   "outputs": [
    {
     "data": {
      "text/html": [
       "<div>\n",
       "<style scoped>\n",
       "    .dataframe tbody tr th:only-of-type {\n",
       "        vertical-align: middle;\n",
       "    }\n",
       "\n",
       "    .dataframe tbody tr th {\n",
       "        vertical-align: top;\n",
       "    }\n",
       "\n",
       "    .dataframe thead th {\n",
       "        text-align: right;\n",
       "    }\n",
       "</style>\n",
       "<table border=\"1\" class=\"dataframe\">\n",
       "  <thead>\n",
       "    <tr style=\"text-align: right;\">\n",
       "      <th></th>\n",
       "      <th>v1</th>\n",
       "      <th>v2</th>\n",
       "      <th>vUnknownComposite</th>\n",
       "    </tr>\n",
       "  </thead>\n",
       "  <tbody>\n",
       "    <tr>\n",
       "      <th>995</th>\n",
       "      <td>2.250978</td>\n",
       "      <td>-1.177236</td>\n",
       "      <td>6.136464</td>\n",
       "    </tr>\n",
       "    <tr>\n",
       "      <th>996</th>\n",
       "      <td>1.575479</td>\n",
       "      <td>4.737833</td>\n",
       "      <td>5.997531</td>\n",
       "    </tr>\n",
       "    <tr>\n",
       "      <th>997</th>\n",
       "      <td>7.684647</td>\n",
       "      <td>5.819119</td>\n",
       "      <td>4.915746</td>\n",
       "    </tr>\n",
       "    <tr>\n",
       "      <th>998</th>\n",
       "      <td>3.453344</td>\n",
       "      <td>6.876971</td>\n",
       "      <td>5.281205</td>\n",
       "    </tr>\n",
       "    <tr>\n",
       "      <th>999</th>\n",
       "      <td>4.433550</td>\n",
       "      <td>4.341987</td>\n",
       "      <td>7.589621</td>\n",
       "    </tr>\n",
       "  </tbody>\n",
       "</table>\n",
       "</div>"
      ],
      "text/plain": [
       "           v1        v2  vUnknownComposite\n",
       "995  2.250978 -1.177236           6.136464\n",
       "996  1.575479  4.737833           5.997531\n",
       "997  7.684647  5.819119           4.915746\n",
       "998  3.453344  6.876971           5.281205\n",
       "999  4.433550  4.341987           7.589621"
      ]
     },
     "execution_count": 65,
     "metadata": {},
     "output_type": "execute_result"
    }
   ],
   "source": [
    "df.tail()"
   ]
  },
  {
   "cell_type": "code",
   "execution_count": 71,
   "id": "c8407bb4",
   "metadata": {},
   "outputs": [
    {
     "data": {
      "image/png": "[encoded data removed]",
      "text/plain": [
       "<Figure size 432x288 with 1 Axes>"
      ]
     },
     "metadata": {
      "needs_background": "light"
     },
     "output_type": "display_data"
    }
   ],
   "source": [
    "hx, hy, _ = plt.hist(df, bins=30, density=1, color = [\"Blue\",\"Orange\",\"Black\"])\n",
    "plt.title('Gaussian mixture gmmUknownComposite')\n",
    "plt.legend([\"v1\",\"v2\",\"vUnknownComposite\"])\n",
    "plt.show()"
   ]
  }
 ],
 "metadata": {
  "kernelspec": {
   "display_name": "Python 3",
   "language": "python",
   "name": "python3"
  },
  "language_info": {
   "codemirror_mode": {
    "name": "ipython",
    "version": 3
   },
   "file_extension": ".py",
   "mimetype": "text/x-python",
   "name": "python",
   "nbconvert_exporter": "python",
   "pygments_lexer": "ipython3",
   "version": "3.8.8"
  }
 },
 "nbformat": 4,
 "nbformat_minor": 5
}
